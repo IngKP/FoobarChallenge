{
 "cells": [
  {
   "cell_type": "code",
   "execution_count": 1,
   "id": "256fafd7-f163-41d2-b210-0627876b2f55",
   "metadata": {},
   "outputs": [
    {
     "name": "stdout",
     "output_type": "stream",
     "text": [
      "done\n"
     ]
    }
   ],
   "source": [
    "def f(a):\n",
    "    return (a, 1, a + 1, 0)[a % 4]\n",
    "\n",
    "def getXor(a, b):\n",
    "    return f(b) ^ f(a-1)\n",
    "\n",
    "def solution(start, length):\n",
    "    ending = length\n",
    "    ans = 0\n",
    "    while ending > 0:\n",
    "        ending = ending - 1\n",
    "        ans ^= getXor(start, start + ending)\n",
    "        start += length\n",
    "    return ans\n",
    "\n",
    "def test():\n",
    "    assert solution(0, 3) == 2\n",
    "    assert solution(17, 4) == 14\n",
    "    print('done')\n",
    "    \n",
    "test()"
   ]
  }
 ],
 "metadata": {
  "kernelspec": {
   "display_name": "Python 3 (ipykernel)",
   "language": "python",
   "name": "python3"
  },
  "language_info": {
   "codemirror_mode": {
    "name": "ipython",
    "version": 3
   },
   "file_extension": ".py",
   "mimetype": "text/x-python",
   "name": "python",
   "nbconvert_exporter": "python",
   "pygments_lexer": "ipython3",
   "version": "3.9.12"
  }
 },
 "nbformat": 4,
 "nbformat_minor": 5
}
