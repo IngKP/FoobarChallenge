{
 "cells": [
  {
   "cell_type": "code",
   "execution_count": 1,
   "id": "644211f5-72b7-4ae1-9e46-3ea64ce6f1ee",
   "metadata": {},
   "outputs": [
    {
     "name": "stdout",
     "output_type": "stream",
     "text": [
      "done\n"
     ]
    }
   ],
   "source": [
    "def solution(l):\n",
    "    \"\"\"Return the number of distinct triples x, y, z from an iterable of\n",
    "    numbers, such that x <= y <= z and x divides y and y divides z.\n",
    "    \n",
    "    Under an assumption that l is already sorted in ascended order,\n",
    "    for each number a, find numbers on the right that % a == 0 and\n",
    "    store those in matrix X. For example, let l = [1, 2, 3, 4, 5, 6]:\n",
    "    \n",
    "    X = [[2,3,4,5,6],   --> % 1 is always 0\n",
    "         [4,6],         --> % 2 == 0\n",
    "         [6],            .\n",
    "         [],             .\n",
    "         [],             .\n",
    "         []]            --> last one is always 0\n",
    "         \n",
    "    ans can be found by getting index and count all size of X[ind]\n",
    "    this is for understanding the method only, the code will store index\n",
    "\n",
    "    \"\"\"\n",
    "    n = len(l)\n",
    "    X = [[] for i in range(n)]\n",
    "    for left_pointer in range(n - 1):\n",
    "        for right_pointer in range(left_pointer + 1, n):\n",
    "            if ((l[right_pointer] % l[left_pointer]) == 0):\n",
    "                X[left_pointer].append(right_pointer)\n",
    "                \n",
    "    ans = 0\n",
    "    for mat in X:\n",
    "        for ind in mat:\n",
    "            ans += len(X[ind])\n",
    "        \n",
    "    return ans\n",
    "\n",
    "def test():\n",
    "    assert solution([1, 1, 1]) == 1\n",
    "    assert solution([1, 2, 3, 4, 5, 6]) == 3\n",
    "    print('done')\n",
    "\n",
    "test()"
   ]
  }
 ],
 "metadata": {
  "kernelspec": {
   "display_name": "Python 3 (ipykernel)",
   "language": "python",
   "name": "python3"
  },
  "language_info": {
   "codemirror_mode": {
    "name": "ipython",
    "version": 3
   },
   "file_extension": ".py",
   "mimetype": "text/x-python",
   "name": "python",
   "nbconvert_exporter": "python",
   "pygments_lexer": "ipython3",
   "version": "3.9.12"
  }
 },
 "nbformat": 4,
 "nbformat_minor": 5
}
