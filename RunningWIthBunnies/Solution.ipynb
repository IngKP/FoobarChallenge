{
 "cells": [
  {
   "cell_type": "code",
   "execution_count": 8,
   "id": "46bf30db-4c8b-47a9-b9de-07824ee44354",
   "metadata": {},
   "outputs": [
    {
     "name": "stdout",
     "output_type": "stream",
     "text": [
      "done\n"
     ]
    }
   ],
   "source": [
    "from itertools import permutations\n",
    "\n",
    "def simplifiedTimes(times, number_rows):\n",
    "    \"\"\"\n",
    "    replace times with a simplified version of times focused on path with lowest time\n",
    "    ---------------------------------------------------------------------------------\n",
    "    if direct path a -> c took longer than a -> b -> c, replace the time of\n",
    "    a -> c with a -> b -> c\n",
    "    \"\"\"\n",
    "    for i in range(number_rows):\n",
    "        for j in range(number_rows):\n",
    "            for k in range(number_rows):\n",
    "                if times[i][j] > times[i][k] + times[k][j]:\n",
    "                    times[i][j] = times[i][k] + times[k][j]\n",
    "\n",
    "def getPath(bunnies_perm):\n",
    "    \"\"\"\n",
    "    return path from permutation of bunnies\n",
    "    ---------------------------------------------------------------------------------\n",
    "    input permutation can be in any length, (1, 2, 3) or (2)\n",
    "    path always start from 0 and end at -1, thus, we get the path from \n",
    "    0 + input permutation + -1\n",
    "    e.g., [(0, 1), (1, 2), (2, 3), (3, -1)] or [(0, 2), (2, -1)]\n",
    "    \"\"\"\n",
    "    bunnies_perm = list(bunnies_perm)\n",
    "    all_perm = [0] + bunnies_perm + [-1]\n",
    "    path = list()\n",
    "    for i in range(1, len(all_perm), 1):\n",
    "        path.append((all_perm[i-1], all_perm[i]))\n",
    "    return path\n",
    "    \n",
    "def solution(times, times_limit):\n",
    "    \"\"\"\n",
    "    return a sorted list of satisfactory permutation \n",
    "            with highest amount of bunnies possible\n",
    "    ----------------------------------------------------------------------------------\n",
    "    from every possible permutations, find a satisfied combination in descending order\n",
    "    EX. bunnies_perm = (1, 2), path = [(0, 1), (1, 2), (2, -1)]\n",
    "        total_time == times_limit\n",
    "        return [1-1, 2-1]\n",
    "    \"\"\"\n",
    "    number_rows = len(times)\n",
    "    number_bunnies = number_rows - 2\n",
    "    simplifiedTimes(times, number_rows)\n",
    "    \n",
    "    # if there is a loop hole, return all bunnies\n",
    "    for i in range(number_rows):\n",
    "        if times[i][i] < 0:\n",
    "            return [x for x in range(number_bunnies)]\n",
    "    \n",
    "    for i in reversed(range(number_bunnies + 1)):\n",
    "        for bunnies_perm in permutations(range(1, number_bunnies + 1), i):\n",
    "            total_time = 0\n",
    "            path = getPath(bunnies_perm)\n",
    "            for start, end in path:\n",
    "                total_time += times[start][end]\n",
    "            if total_time <= times_limit:\n",
    "                return sorted(list(i - 1 for i in bunnies_perm))\n",
    "    return []\n",
    "    \n",
    "\n",
    "def test():\n",
    "    times = [[0, 2, 2, 2, -1], [9, 0, 2, 2, -1], [9, 3, 0, 2, -1], [9, 3, 2, 0, -1], [9, 3, 2, 2, 0]]\n",
    "    times_limit = 1\n",
    "    assert solution(times, times_limit) == [1, 2]\n",
    "    times = [[0, 1, 1, 1, 1], [1, 0, 1, 1, 1], [1, 1, 0, 1, 1], [1, 1, 1, 0, 1], [1, 1, 1, 1, 0]]\n",
    "    times_limit = 3\n",
    "    assert solution(times, times_limit) == [0, 1]\n",
    "    print('done')\n",
    "test()"
   ]
  }
 ],
 "metadata": {
  "kernelspec": {
   "display_name": "Python 3 (ipykernel)",
   "language": "python",
   "name": "python3"
  },
  "language_info": {
   "codemirror_mode": {
    "name": "ipython",
    "version": 3
   },
   "file_extension": ".py",
   "mimetype": "text/x-python",
   "name": "python",
   "nbconvert_exporter": "python",
   "pygments_lexer": "ipython3",
   "version": "3.9.12"
  }
 },
 "nbformat": 4,
 "nbformat_minor": 5
}
