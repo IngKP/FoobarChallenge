{
 "cells": [
  {
   "cell_type": "code",
   "execution_count": 1,
   "id": "928c4c0d-7612-48c7-a55b-6598b387e558",
   "metadata": {},
   "outputs": [
    {
     "name": "stdout",
     "output_type": "stream",
     "text": [
      "done\n"
     ]
    }
   ],
   "source": [
    "from collections import defaultdict\n",
    "# idea from https://gitlab.com/-/snippets/2017450\n",
    "def getPrestate():\n",
    "    \"\"\"\n",
    "    return  prestate of True or False at any specific point\n",
    "            if true, returns 4 of 2x2 matrices that has 3 False\n",
    "            and 1 True\n",
    "    \"\"\"\n",
    "    foo = []\n",
    "    fxx = []\n",
    "    for a in range(2):\n",
    "        for b in range(2):\n",
    "            for c in range(2):\n",
    "                for d in range(2):\n",
    "                    x = ((d, c),(b, a))\n",
    "                    if a+b+c+d == 1:\n",
    "                        fxx.append(x)\n",
    "                    else:\n",
    "                        foo.append(x)\n",
    "    Prestate = {1: tuple(fxx),\n",
    "               0: tuple(foo)}\n",
    "    return Prestate\n",
    "Prestate = getPrestate()\n",
    "\n",
    "def genPreimages(previous_state, current_state):\n",
    "    \"\"\"\n",
    "    generate 2 preimage columns by connecting rows that are overlapped\n",
    "    \"\"\"\n",
    "    for previos_combination in previous_state:\n",
    "        for current_combination in current_state:\n",
    "            if previos_combination[-1] == current_combination[0]:\n",
    "                yield previos_combination + (current_combination[1], )\n",
    "\n",
    "def getPossiblePreimages(col):\n",
    "    \"\"\"\n",
    "    return all possible preimage columns after generating it\n",
    "    \"\"\"\n",
    "    preimages = Prestate[col[0]]\n",
    "    for i in range(1, len(col)):\n",
    "        preimages = genPreimages(preimages, Prestate[col[i]])\n",
    "    return tuple(tuple(zip(*preimage)) for preimage in preimages)\n",
    "\n",
    "def solution(g):\n",
    "    \"\"\"\n",
    "    return a sum of all possible preimages by connecting all possible columns\n",
    "    \"\"\"\n",
    "    transposed_g = tuple(zip(*g))\n",
    "    preimages = defaultdict(int)\n",
    "    for p in getPossiblePreimages(transposed_g[0]):\n",
    "        preimages[p[1]] += 1\n",
    "    for i in range(1, len(transposed_g)):\n",
    "        next_preimages = {}\n",
    "        for p in getPossiblePreimages(transposed_g[i]):\n",
    "            if p[0] in preimages:\n",
    "                next_preimages[p[1]] = preimages[p[0]] + (next_preimages[p[1]] if p[1] in next_preimages else 0)\n",
    "        preimages = next_preimages\n",
    "    return sum(preimages.values())\n",
    "\n",
    "def test():\n",
    "    g = [[True, False, True], [False, True, False], [True, False, True]]\n",
    "    assert solution(g) == 4\n",
    "    g = [[True, False, True, False, False, True, True, True], [True, False, True, False, False, False, True, False], [True, True, True, False, False, False, True, False], [True, False, True, False, False, False, True, False], [True, False, True, False, False, True, True, True]]\n",
    "    assert solution(g) == 254\n",
    "    g = [[True, True, False, True, False, True, False, True, True, False], [True, True, False, False, False, False, True, True, True, False], [True, True, False, False, False, False, False, False, False, True], [False, True, False, False, False, False, True, True, False, False]]\n",
    "    assert solution(g) == 11567\n",
    "    print('done')\n",
    "\n",
    "test()"
   ]
  }
 ],
 "metadata": {
  "kernelspec": {
   "display_name": "Python 3 (ipykernel)",
   "language": "python",
   "name": "python3"
  },
  "language_info": {
   "codemirror_mode": {
    "name": "ipython",
    "version": 3
   },
   "file_extension": ".py",
   "mimetype": "text/x-python",
   "name": "python",
   "nbconvert_exporter": "python",
   "pygments_lexer": "ipython3",
   "version": "3.9.12"
  }
 },
 "nbformat": 4,
 "nbformat_minor": 5
}
